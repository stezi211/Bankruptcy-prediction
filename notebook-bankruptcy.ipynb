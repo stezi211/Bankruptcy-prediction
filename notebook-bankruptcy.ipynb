{
 "cells": [
  {
   "cell_type": "code",
   "execution_count": 1,
   "id": "b74e3a06-c576-4d4e-b898-133100141b28",
   "metadata": {},
   "outputs": [],
   "source": [
    "import pandas as pd\n",
    "import xgboost as xgb\n",
    "import numpy as np\n",
    "\n",
    "from sklearn.model_selection import train_test_split\n",
    "from sklearn.model_selection import RepeatedStratifiedKFold\n",
    "from sklearn.model_selection import GridSearchCV\n",
    "from sklearn.metrics import accuracy_score\n",
    "from sklearn.metrics import f1_score\n",
    "from sklearn.metrics import precision_recall_curve\n",
    "\n",
    "from matplotlib import pyplot as plt"
   ]
  },
  {
   "cell_type": "code",
   "execution_count": 2,
   "id": "02dabf42-c4b0-4cfc-aa92-c19a5971e731",
   "metadata": {},
   "outputs": [
    {
     "name": "stderr",
     "output_type": "stream",
     "text": [
      "/opt/conda/lib/python3.7/site-packages/IPython/core/interactiveshell.py:3552: DtypeWarning: Columns (2,3,4,6,7,8,10,11,12,15,16,19,23,26,30,36,37,39,49,52,56,58,59,60) have mixed types.Specify dtype option on import or set low_memory=False.\n",
      "  exec(code_obj, self.user_global_ns, self.user_ns)\n"
     ]
    }
   ],
   "source": [
    "a = pd.read_csv('train.csv')"
   ]
  },
  {
   "cell_type": "markdown",
   "id": "ab468c15-62be-4976-a328-9c2df6b52fc3",
   "metadata": {},
   "source": [
    "Checking for missing values"
   ]
  },
  {
   "cell_type": "code",
   "execution_count": 3,
   "id": "09275961-533c-4d23-a2d4-6feba9de724f",
   "metadata": {},
   "outputs": [
    {
     "data": {
      "text/plain": [
       "0"
      ]
     },
     "execution_count": 3,
     "metadata": {},
     "output_type": "execute_result"
    }
   ],
   "source": [
    "pd.isna(a).sum().sum()"
   ]
  },
  {
   "cell_type": "code",
   "execution_count": 4,
   "id": "e500db34-dcca-431a-be04-2693171f7455",
   "metadata": {},
   "outputs": [
    {
     "data": {
      "text/html": [
       "<div>\n",
       "<style scoped>\n",
       "    .dataframe tbody tr th:only-of-type {\n",
       "        vertical-align: middle;\n",
       "    }\n",
       "\n",
       "    .dataframe tbody tr th {\n",
       "        vertical-align: top;\n",
       "    }\n",
       "\n",
       "    .dataframe thead th {\n",
       "        text-align: right;\n",
       "    }\n",
       "</style>\n",
       "<table border=\"1\" class=\"dataframe\">\n",
       "  <thead>\n",
       "    <tr style=\"text-align: right;\">\n",
       "      <th></th>\n",
       "      <th>id</th>\n",
       "      <th>forecasting period</th>\n",
       "      <th>class</th>\n",
       "    </tr>\n",
       "  </thead>\n",
       "  <tbody>\n",
       "    <tr>\n",
       "      <th>count</th>\n",
       "      <td>25121.000000</td>\n",
       "      <td>25121.000000</td>\n",
       "      <td>25121.000000</td>\n",
       "    </tr>\n",
       "    <tr>\n",
       "      <th>mean</th>\n",
       "      <td>12560.000000</td>\n",
       "      <td>2.608574</td>\n",
       "      <td>0.044823</td>\n",
       "    </tr>\n",
       "    <tr>\n",
       "      <th>std</th>\n",
       "      <td>7251.952392</td>\n",
       "      <td>1.063099</td>\n",
       "      <td>0.206919</td>\n",
       "    </tr>\n",
       "    <tr>\n",
       "      <th>min</th>\n",
       "      <td>0.000000</td>\n",
       "      <td>1.000000</td>\n",
       "      <td>0.000000</td>\n",
       "    </tr>\n",
       "    <tr>\n",
       "      <th>25%</th>\n",
       "      <td>6280.000000</td>\n",
       "      <td>2.000000</td>\n",
       "      <td>0.000000</td>\n",
       "    </tr>\n",
       "    <tr>\n",
       "      <th>50%</th>\n",
       "      <td>12560.000000</td>\n",
       "      <td>3.000000</td>\n",
       "      <td>0.000000</td>\n",
       "    </tr>\n",
       "    <tr>\n",
       "      <th>75%</th>\n",
       "      <td>18840.000000</td>\n",
       "      <td>4.000000</td>\n",
       "      <td>0.000000</td>\n",
       "    </tr>\n",
       "    <tr>\n",
       "      <th>max</th>\n",
       "      <td>25120.000000</td>\n",
       "      <td>4.000000</td>\n",
       "      <td>1.000000</td>\n",
       "    </tr>\n",
       "  </tbody>\n",
       "</table>\n",
       "</div>"
      ],
      "text/plain": [
       "                 id  forecasting period         class\n",
       "count  25121.000000        25121.000000  25121.000000\n",
       "mean   12560.000000            2.608574      0.044823\n",
       "std     7251.952392            1.063099      0.206919\n",
       "min        0.000000            1.000000      0.000000\n",
       "25%     6280.000000            2.000000      0.000000\n",
       "50%    12560.000000            3.000000      0.000000\n",
       "75%    18840.000000            4.000000      0.000000\n",
       "max    25120.000000            4.000000      1.000000"
      ]
     },
     "execution_count": 4,
     "metadata": {},
     "output_type": "execute_result"
    }
   ],
   "source": [
    "a.describe()"
   ]
  },
  {
   "cell_type": "code",
   "execution_count": 5,
   "id": "54f67964-3dcf-45f2-b82a-d0d1e00fe499",
   "metadata": {},
   "outputs": [
    {
     "data": {
      "text/plain": [
       "id                                              int64\n",
       "forecasting period                              int64\n",
       "net_profit_over_total_assets                   object\n",
       "total_liabilities_over_total_assets            object\n",
       "working_capital_over_total_assets              object\n",
       "                                                ...  \n",
       "sales_over_receivables                         object\n",
       "short_term_liabilities_times_365_over_sales    object\n",
       "sales_over_short_term_liabilities              object\n",
       "sales_over_fixed_assets                        object\n",
       "class                                           int64\n",
       "Length: 67, dtype: object"
      ]
     },
     "execution_count": 5,
     "metadata": {},
     "output_type": "execute_result"
    }
   ],
   "source": [
    "a.dtypes"
   ]
  },
  {
   "cell_type": "markdown",
   "id": "85982046-efe9-479a-84ca-5772f69ab822",
   "metadata": {},
   "source": [
    "Bringing data into numerical form"
   ]
  },
  {
   "cell_type": "code",
   "execution_count": 6,
   "id": "7ed916de-cc52-4cee-921f-2207580b276e",
   "metadata": {},
   "outputs": [],
   "source": [
    "a = a.apply(pd.to_numeric, errors='coerce',downcast='integer')"
   ]
  },
  {
   "cell_type": "code",
   "execution_count": 7,
   "id": "9ba8120f-f2a6-45ed-9605-1de6ea237f61",
   "metadata": {},
   "outputs": [
    {
     "data": {
      "text/html": [
       "<div>\n",
       "<style scoped>\n",
       "    .dataframe tbody tr th:only-of-type {\n",
       "        vertical-align: middle;\n",
       "    }\n",
       "\n",
       "    .dataframe tbody tr th {\n",
       "        vertical-align: top;\n",
       "    }\n",
       "\n",
       "    .dataframe thead th {\n",
       "        text-align: right;\n",
       "    }\n",
       "</style>\n",
       "<table border=\"1\" class=\"dataframe\">\n",
       "  <thead>\n",
       "    <tr style=\"text-align: right;\">\n",
       "      <th></th>\n",
       "      <th>id</th>\n",
       "      <th>forecasting period</th>\n",
       "      <th>net_profit_over_total_assets</th>\n",
       "      <th>total_liabilities_over_total_assets</th>\n",
       "      <th>working_capital_over_total_assets</th>\n",
       "      <th>current_assets_over_short_term_liabilities</th>\n",
       "      <th>cash_plus_short_term_securities_plus_receivables_minus_short_term_liabilities_over_operating_expenses_minus_depreciation_times_365</th>\n",
       "      <th>retained_earnings_over_total_assets</th>\n",
       "      <th>EBIT_over_total_assets</th>\n",
       "      <th>book_value_of_equity_over_total_liabilities</th>\n",
       "      <th>...</th>\n",
       "      <th>sales_minus_cost_of_products_sold_over_sales</th>\n",
       "      <th>current_assets_minus_inventory_minus_short_term_liabilities_over_sales_minus_gross_profit_minus_depreciation</th>\n",
       "      <th>total_costs_overtotal_sales</th>\n",
       "      <th>long_term_liabilities_over_equity</th>\n",
       "      <th>sales_over_inventory</th>\n",
       "      <th>sales_over_receivables</th>\n",
       "      <th>short_term_liabilities_times_365_over_sales</th>\n",
       "      <th>sales_over_short_term_liabilities</th>\n",
       "      <th>sales_over_fixed_assets</th>\n",
       "      <th>class</th>\n",
       "    </tr>\n",
       "  </thead>\n",
       "  <tbody>\n",
       "    <tr>\n",
       "      <th>count</th>\n",
       "      <td>25121.000000</td>\n",
       "      <td>25121.000000</td>\n",
       "      <td>25118.000000</td>\n",
       "      <td>25118.000000</td>\n",
       "      <td>25118.000000</td>\n",
       "      <td>25043.000000</td>\n",
       "      <td>2.506400e+04</td>\n",
       "      <td>25118.000000</td>\n",
       "      <td>25118.000000</td>\n",
       "      <td>25072.000000</td>\n",
       "      <td>...</td>\n",
       "      <td>25044.000000</td>\n",
       "      <td>25118.000000</td>\n",
       "      <td>25068.000000</td>\n",
       "      <td>25118.000000</td>\n",
       "      <td>2.383900e+04</td>\n",
       "      <td>25064.000000</td>\n",
       "      <td>2.504400e+04</td>\n",
       "      <td>25043.000000</td>\n",
       "      <td>24630.000000</td>\n",
       "      <td>25121.000000</td>\n",
       "    </tr>\n",
       "    <tr>\n",
       "      <th>mean</th>\n",
       "      <td>12560.000000</td>\n",
       "      <td>2.608574</td>\n",
       "      <td>0.046883</td>\n",
       "      <td>0.611913</td>\n",
       "      <td>0.098553</td>\n",
       "      <td>6.285753</td>\n",
       "      <td>-9.125936e+01</td>\n",
       "      <td>-0.067728</td>\n",
       "      <td>0.147535</td>\n",
       "      <td>15.153162</td>\n",
       "      <td>...</td>\n",
       "      <td>-0.770713</td>\n",
       "      <td>0.098693</td>\n",
       "      <td>4.429418</td>\n",
       "      <td>1.597135</td>\n",
       "      <td>3.225273e+02</td>\n",
       "      <td>14.315634</td>\n",
       "      <td>7.394522e+02</td>\n",
       "      <td>9.835042</td>\n",
       "      <td>77.756289</td>\n",
       "      <td>0.044823</td>\n",
       "    </tr>\n",
       "    <tr>\n",
       "      <th>std</th>\n",
       "      <td>7251.952392</td>\n",
       "      <td>1.063099</td>\n",
       "      <td>1.821696</td>\n",
       "      <td>5.933447</td>\n",
       "      <td>5.908136</td>\n",
       "      <td>339.973627</td>\n",
       "      <td>1.828476e+04</td>\n",
       "      <td>6.873121</td>\n",
       "      <td>5.835287</td>\n",
       "      <td>611.473437</td>\n",
       "      <td>...</td>\n",
       "      <td>72.977149</td>\n",
       "      <td>10.380960</td>\n",
       "      <td>383.343937</td>\n",
       "      <td>152.441163</td>\n",
       "      <td>1.606698e+04</td>\n",
       "      <td>120.835222</td>\n",
       "      <td>5.627363e+04</td>\n",
       "      <td>154.676272</td>\n",
       "      <td>2694.281611</td>\n",
       "      <td>0.206919</td>\n",
       "    </tr>\n",
       "    <tr>\n",
       "      <th>min</th>\n",
       "      <td>0.000000</td>\n",
       "      <td>1.000000</td>\n",
       "      <td>-256.889998</td>\n",
       "      <td>-72.162006</td>\n",
       "      <td>-479.959994</td>\n",
       "      <td>-0.044851</td>\n",
       "      <td>-1.670200e+06</td>\n",
       "      <td>-508.409992</td>\n",
       "      <td>-189.559992</td>\n",
       "      <td>-141.410220</td>\n",
       "      <td>...</td>\n",
       "      <td>-8534.599415</td>\n",
       "      <td>-979.250019</td>\n",
       "      <td>-1.631820</td>\n",
       "      <td>-327.970143</td>\n",
       "      <td>-4.066151e-02</td>\n",
       "      <td>-12.655400</td>\n",
       "      <td>-2.336500e+06</td>\n",
       "      <td>-0.367905</td>\n",
       "      <td>-10677.001615</td>\n",
       "      <td>0.000000</td>\n",
       "    </tr>\n",
       "    <tr>\n",
       "      <th>25%</th>\n",
       "      <td>6280.000000</td>\n",
       "      <td>2.000000</td>\n",
       "      <td>0.003354</td>\n",
       "      <td>0.271005</td>\n",
       "      <td>0.016605</td>\n",
       "      <td>1.037774</td>\n",
       "      <td>-5.058748e+01</td>\n",
       "      <td>-0.000010</td>\n",
       "      <td>0.005649</td>\n",
       "      <td>0.422289</td>\n",
       "      <td>...</td>\n",
       "      <td>0.008843</td>\n",
       "      <td>0.015141</td>\n",
       "      <td>0.875577</td>\n",
       "      <td>-0.000002</td>\n",
       "      <td>5.620743e+00</td>\n",
       "      <td>4.538417</td>\n",
       "      <td>4.158029e+01</td>\n",
       "      <td>3.100047</td>\n",
       "      <td>2.185147</td>\n",
       "      <td>0.000000</td>\n",
       "    </tr>\n",
       "    <tr>\n",
       "      <th>50%</th>\n",
       "      <td>12560.000000</td>\n",
       "      <td>3.000000</td>\n",
       "      <td>0.049864</td>\n",
       "      <td>0.476965</td>\n",
       "      <td>0.191679</td>\n",
       "      <td>1.553757</td>\n",
       "      <td>-1.702077e+00</td>\n",
       "      <td>0.000003</td>\n",
       "      <td>0.060077</td>\n",
       "      <td>1.051214</td>\n",
       "      <td>...</td>\n",
       "      <td>0.052831</td>\n",
       "      <td>0.122515</td>\n",
       "      <td>0.950947</td>\n",
       "      <td>0.005193</td>\n",
       "      <td>9.973974e+00</td>\n",
       "      <td>6.732840</td>\n",
       "      <td>7.090939e+01</td>\n",
       "      <td>5.116548</td>\n",
       "      <td>4.340603</td>\n",
       "      <td>0.000000</td>\n",
       "    </tr>\n",
       "    <tr>\n",
       "      <th>75%</th>\n",
       "      <td>18840.000000</td>\n",
       "      <td>4.000000</td>\n",
       "      <td>0.131419</td>\n",
       "      <td>0.693583</td>\n",
       "      <td>0.401751</td>\n",
       "      <td>2.767430</td>\n",
       "      <td>5.120627e+01</td>\n",
       "      <td>0.085018</td>\n",
       "      <td>0.153186</td>\n",
       "      <td>2.593104</td>\n",
       "      <td>...</td>\n",
       "      <td>0.129194</td>\n",
       "      <td>0.293705</td>\n",
       "      <td>0.993072</td>\n",
       "      <td>0.241881</td>\n",
       "      <td>2.082144e+01</td>\n",
       "      <td>10.601720</td>\n",
       "      <td>1.169599e+02</td>\n",
       "      <td>8.708598</td>\n",
       "      <td>9.892896</td>\n",
       "      <td>0.000000</td>\n",
       "    </tr>\n",
       "    <tr>\n",
       "      <th>max</th>\n",
       "      <td>25120.000000</td>\n",
       "      <td>4.000000</td>\n",
       "      <td>52.651999</td>\n",
       "      <td>480.960001</td>\n",
       "      <td>22.769001</td>\n",
       "      <td>53433.000440</td>\n",
       "      <td>1.034100e+06</td>\n",
       "      <td>322.199997</td>\n",
       "      <td>649.230003</td>\n",
       "      <td>53431.999474</td>\n",
       "      <td>...</td>\n",
       "      <td>293.158392</td>\n",
       "      <td>552.639985</td>\n",
       "      <td>59671.999668</td>\n",
       "      <td>23853.000122</td>\n",
       "      <td>2.137800e+06</td>\n",
       "      <td>12296.000520</td>\n",
       "      <td>7.276000e+06</td>\n",
       "      <td>23453.999855</td>\n",
       "      <td>294769.993913</td>\n",
       "      <td>1.000000</td>\n",
       "    </tr>\n",
       "  </tbody>\n",
       "</table>\n",
       "<p>8 rows × 67 columns</p>\n",
       "</div>"
      ],
      "text/plain": [
       "                 id  forecasting period  net_profit_over_total_assets  \\\n",
       "count  25121.000000        25121.000000                  25118.000000   \n",
       "mean   12560.000000            2.608574                      0.046883   \n",
       "std     7251.952392            1.063099                      1.821696   \n",
       "min        0.000000            1.000000                   -256.889998   \n",
       "25%     6280.000000            2.000000                      0.003354   \n",
       "50%    12560.000000            3.000000                      0.049864   \n",
       "75%    18840.000000            4.000000                      0.131419   \n",
       "max    25120.000000            4.000000                     52.651999   \n",
       "\n",
       "       total_liabilities_over_total_assets  working_capital_over_total_assets  \\\n",
       "count                         25118.000000                       25118.000000   \n",
       "mean                              0.611913                           0.098553   \n",
       "std                               5.933447                           5.908136   \n",
       "min                             -72.162006                        -479.959994   \n",
       "25%                               0.271005                           0.016605   \n",
       "50%                               0.476965                           0.191679   \n",
       "75%                               0.693583                           0.401751   \n",
       "max                             480.960001                          22.769001   \n",
       "\n",
       "       current_assets_over_short_term_liabilities  \\\n",
       "count                                25043.000000   \n",
       "mean                                     6.285753   \n",
       "std                                    339.973627   \n",
       "min                                     -0.044851   \n",
       "25%                                      1.037774   \n",
       "50%                                      1.553757   \n",
       "75%                                      2.767430   \n",
       "max                                  53433.000440   \n",
       "\n",
       "       cash_plus_short_term_securities_plus_receivables_minus_short_term_liabilities_over_operating_expenses_minus_depreciation_times_365  \\\n",
       "count                                       2.506400e+04                                                                                    \n",
       "mean                                       -9.125936e+01                                                                                    \n",
       "std                                         1.828476e+04                                                                                    \n",
       "min                                        -1.670200e+06                                                                                    \n",
       "25%                                        -5.058748e+01                                                                                    \n",
       "50%                                        -1.702077e+00                                                                                    \n",
       "75%                                         5.120627e+01                                                                                    \n",
       "max                                         1.034100e+06                                                                                    \n",
       "\n",
       "       retained_earnings_over_total_assets  EBIT_over_total_assets  \\\n",
       "count                         25118.000000            25118.000000   \n",
       "mean                             -0.067728                0.147535   \n",
       "std                               6.873121                5.835287   \n",
       "min                            -508.409992             -189.559992   \n",
       "25%                              -0.000010                0.005649   \n",
       "50%                               0.000003                0.060077   \n",
       "75%                               0.085018                0.153186   \n",
       "max                             322.199997              649.230003   \n",
       "\n",
       "       book_value_of_equity_over_total_liabilities  ...  \\\n",
       "count                                 25072.000000  ...   \n",
       "mean                                     15.153162  ...   \n",
       "std                                     611.473437  ...   \n",
       "min                                    -141.410220  ...   \n",
       "25%                                       0.422289  ...   \n",
       "50%                                       1.051214  ...   \n",
       "75%                                       2.593104  ...   \n",
       "max                                   53431.999474  ...   \n",
       "\n",
       "       sales_minus_cost_of_products_sold_over_sales  \\\n",
       "count                                  25044.000000   \n",
       "mean                                      -0.770713   \n",
       "std                                       72.977149   \n",
       "min                                    -8534.599415   \n",
       "25%                                        0.008843   \n",
       "50%                                        0.052831   \n",
       "75%                                        0.129194   \n",
       "max                                      293.158392   \n",
       "\n",
       "       current_assets_minus_inventory_minus_short_term_liabilities_over_sales_minus_gross_profit_minus_depreciation  \\\n",
       "count                                       25118.000000                                                              \n",
       "mean                                            0.098693                                                              \n",
       "std                                            10.380960                                                              \n",
       "min                                          -979.250019                                                              \n",
       "25%                                             0.015141                                                              \n",
       "50%                                             0.122515                                                              \n",
       "75%                                             0.293705                                                              \n",
       "max                                           552.639985                                                              \n",
       "\n",
       "       total_costs_overtotal_sales  long_term_liabilities_over_equity  \\\n",
       "count                 25068.000000                       25118.000000   \n",
       "mean                      4.429418                           1.597135   \n",
       "std                     383.343937                         152.441163   \n",
       "min                      -1.631820                        -327.970143   \n",
       "25%                       0.875577                          -0.000002   \n",
       "50%                       0.950947                           0.005193   \n",
       "75%                       0.993072                           0.241881   \n",
       "max                   59671.999668                       23853.000122   \n",
       "\n",
       "       sales_over_inventory  sales_over_receivables  \\\n",
       "count          2.383900e+04            25064.000000   \n",
       "mean           3.225273e+02               14.315634   \n",
       "std            1.606698e+04              120.835222   \n",
       "min           -4.066151e-02              -12.655400   \n",
       "25%            5.620743e+00                4.538417   \n",
       "50%            9.973974e+00                6.732840   \n",
       "75%            2.082144e+01               10.601720   \n",
       "max            2.137800e+06            12296.000520   \n",
       "\n",
       "       short_term_liabilities_times_365_over_sales  \\\n",
       "count                                 2.504400e+04   \n",
       "mean                                  7.394522e+02   \n",
       "std                                   5.627363e+04   \n",
       "min                                  -2.336500e+06   \n",
       "25%                                   4.158029e+01   \n",
       "50%                                   7.090939e+01   \n",
       "75%                                   1.169599e+02   \n",
       "max                                   7.276000e+06   \n",
       "\n",
       "       sales_over_short_term_liabilities  sales_over_fixed_assets  \\\n",
       "count                       25043.000000             24630.000000   \n",
       "mean                            9.835042                77.756289   \n",
       "std                           154.676272              2694.281611   \n",
       "min                            -0.367905            -10677.001615   \n",
       "25%                             3.100047                 2.185147   \n",
       "50%                             5.116548                 4.340603   \n",
       "75%                             8.708598                 9.892896   \n",
       "max                         23453.999855            294769.993913   \n",
       "\n",
       "              class  \n",
       "count  25121.000000  \n",
       "mean       0.044823  \n",
       "std        0.206919  \n",
       "min        0.000000  \n",
       "25%        0.000000  \n",
       "50%        0.000000  \n",
       "75%        0.000000  \n",
       "max        1.000000  \n",
       "\n",
       "[8 rows x 67 columns]"
      ]
     },
     "execution_count": 7,
     "metadata": {},
     "output_type": "execute_result"
    }
   ],
   "source": [
    "a.describe()"
   ]
  },
  {
   "cell_type": "markdown",
   "id": "966e95b1-b4a4-4d52-b3df-cb3e5c4b2683",
   "metadata": {},
   "source": [
    "Looking at the balance between categories (bankruptcy, no bankruptcy)"
   ]
  },
  {
   "cell_type": "code",
   "execution_count": 8,
   "id": "6eec4b28-9851-4290-8a76-68814e9c9e78",
   "metadata": {},
   "outputs": [
    {
     "data": {
      "image/png": "[encoded data removed]",
      "text/plain": [
       "<Figure size 504x432 with 1 Axes>"
      ]
     },
     "metadata": {
      "needs_background": "light"
     },
     "output_type": "display_data"
    }
   ],
   "source": [
    "class_graph = a['class'].value_counts()\n",
    "plt.figure(figsize=(7, 6))\n",
    "ax = class_graph.plot(kind='bar', rot=0, color=\"b\")\n",
    "ax.set_title(\"Bar Graph of Class in Training Set\", y = 1)\n",
    "ax.set_xlabel('Class')\n",
    "ax.set_ylabel('Number of Companies')\n",
    "ax.set_xticklabels(('No Bankruptcy', 'Bankruptcy'))\n",
    "\n",
    "for i in ax.patches:\n",
    "    y_value = i.get_height()\n",
    "    x_value = i.get_x() + i.get_width() / 2\n",
    "    space = 1\n",
    "    label = \"{:.0f}\".format(y_value)\n",
    "    ax.annotate(label, (x_value, y_value), xytext=(0, space), textcoords=\"offset points\", ha='center', va='bottom')\n",
    "plt.show()"
   ]
  },
  {
   "cell_type": "markdown",
   "id": "7fb1c263-6838-4390-bbd8-d02299b9f75a",
   "metadata": {},
   "source": [
    "Splitting the data into train and testing"
   ]
  },
  {
   "cell_type": "code",
   "execution_count": 9,
   "id": "224cc08c-4d8d-4d01-b4d6-f1a2ee05cac2",
   "metadata": {},
   "outputs": [],
   "source": [
    "X, y = a.iloc[:,1:66], a.iloc[:,66]"
   ]
  },
  {
   "cell_type": "code",
   "execution_count": 10,
   "id": "688e02df-2d25-4352-93f3-761b43120b5c",
   "metadata": {},
   "outputs": [],
   "source": [
    "X_train, X_test, y_train, y_test = train_test_split(X,y,test_size=0.3,random_state=211)"
   ]
  },
  {
   "cell_type": "markdown",
   "id": "4254b777-3eeb-43ba-9380-6b71589329a1",
   "metadata": {},
   "source": [
    "Algorith parameters"
   ]
  },
  {
   "cell_type": "code",
   "execution_count": 11,
   "id": "01853029-1550-4bef-83d6-7b53b78c5b35",
   "metadata": {},
   "outputs": [],
   "source": [
    "paramGrid = {\n",
    "    'max_depth':[2,3,4,5],\n",
    "    'alpha':[0.5,0.7,1,1.2],\n",
    "    'subsample':[1],\n",
    "    'learning_rate':[0.15, 0.2, 0.25],\n",
    "    'n_estimators':[180,200,220,250],\n",
    "    'colsample_bytree':[1],\n",
    "    'colsample_bylevel':[1],\n",
    "    'scale_pos_weight':[1,21,22],\n",
    "    'objective':['binary:logistic'],\n",
    "    'eval_metric':['logloss']\n",
    "}"
   ]
  },
  {
   "cell_type": "markdown",
   "id": "b617aef6-96d4-4b22-81ee-07dd668ed404",
   "metadata": {},
   "source": [
    "Defining the algorith"
   ]
  },
  {
   "cell_type": "code",
   "execution_count": 12,
   "id": "60b71e94-60cd-419d-8183-3a1425c1083d",
   "metadata": {},
   "outputs": [],
   "source": [
    "xgb_clf = xgb.XGBClassifier(tree_method='gpu_hist',gpu_id=0)"
   ]
  },
  {
   "cell_type": "markdown",
   "id": "00371a03-3a43-42fb-b436-8942dd822b33",
   "metadata": {},
   "source": [
    "Creating cross-validation folds that keep the ratio between the 2 classes"
   ]
  },
  {
   "cell_type": "code",
   "execution_count": 13,
   "id": "7a241d97-221c-4878-8409-60b1e5ab4d0a",
   "metadata": {},
   "outputs": [],
   "source": [
    "cv = RepeatedStratifiedKFold(n_splits=5, n_repeats=3, random_state=211)"
   ]
  },
  {
   "cell_type": "markdown",
   "id": "5e10c297-f5d4-4d89-926a-12310ffaea20",
   "metadata": {},
   "source": [
    "Looking for the best algorith parameters"
   ]
  },
  {
   "cell_type": "code",
   "execution_count": 14,
   "id": "ff15268d-9399-44fa-8525-1279ddb2079d",
   "metadata": {},
   "outputs": [],
   "source": [
    "xgb_rs = GridSearchCV(estimator=xgb_clf, param_grid=paramGrid, cv=cv, verbose=1, scoring='f1')"
   ]
  },
  {
   "cell_type": "markdown",
   "id": "1f2c7812-c7fc-405c-b78f-f3d85b93d29b",
   "metadata": {},
   "source": [
    "Fitting the train data to the model"
   ]
  },
  {
   "cell_type": "code",
   "execution_count": 15,
   "id": "28ef3f6e-989d-447d-ba65-8493f19fff39",
   "metadata": {},
   "outputs": [
    {
     "name": "stdout",
     "output_type": "stream",
     "text": [
      "Fitting 15 folds for each of 576 candidates, totalling 8640 fits\n"
     ]
    },
    {
     "data": {
      "text/plain": [
       "GridSearchCV(cv=RepeatedStratifiedKFold(n_repeats=3, n_splits=5, random_state=211),\n",
       "             estimator=XGBClassifier(base_score=None, booster=None,\n",
       "                                     callbacks=None, colsample_bylevel=None,\n",
       "                                     colsample_bynode=None,\n",
       "                                     colsample_bytree=None,\n",
       "                                     early_stopping_rounds=None,\n",
       "                                     enable_categorical=False, eval_metric=None,\n",
       "                                     gamma=None, gpu_id=0, grow_policy=None,\n",
       "                                     importance_type=None,\n",
       "                                     interac...\n",
       "                                     random_state=None, reg_alpha=None,\n",
       "                                     reg_lambda=None, ...),\n",
       "             param_grid={'alpha': [0.5, 0.7, 1, 1.2], 'colsample_bylevel': [1],\n",
       "                         'colsample_bytree': [1], 'eval_metric': ['logloss'],\n",
       "                         'learning_rate': [0.15, 0.2, 0.25],\n",
       "                         'max_depth': [2, 3, 4, 5],\n",
       "                         'n_estimators': [180, 200, 220, 250],\n",
       "                         'objective': ['binary:logistic'],\n",
       "                         'scale_pos_weight': [1, 21, 22], 'subsample': [1]},\n",
       "             scoring='f1', verbose=1)"
      ]
     },
     "execution_count": 15,
     "metadata": {},
     "output_type": "execute_result"
    }
   ],
   "source": [
    "xgb_rs.fit(X_train,y_train)"
   ]
  },
  {
   "cell_type": "code",
   "execution_count": 16,
   "id": "a392e199-a261-4864-973a-72d8a34705dc",
   "metadata": {},
   "outputs": [
    {
     "name": "stdout",
     "output_type": "stream",
     "text": [
      "Best parameters found: {'alpha': 1.2, 'colsample_bylevel': 1, 'colsample_bytree': 1, 'eval_metric': 'logloss', 'learning_rate': 0.25, 'max_depth': 5, 'n_estimators': 220, 'objective': 'binary:logistic', 'scale_pos_weight': 22, 'subsample': 1}\n"
     ]
    }
   ],
   "source": [
    "print(\"Best parameters found:\", xgb_rs.best_params_)"
   ]
  },
  {
   "cell_type": "code",
   "execution_count": 17,
   "id": "fe9126de-c27f-4116-ae92-3131da4250b7",
   "metadata": {},
   "outputs": [
    {
     "name": "stdout",
     "output_type": "stream",
     "text": [
      "Best accuracy found: 0.7170110984310772\n"
     ]
    }
   ],
   "source": [
    "print(\"Best accuracy found:\",xgb_rs.best_score_)"
   ]
  },
  {
   "cell_type": "code",
   "execution_count": 18,
   "id": "a28a5674-5fd5-4cb2-9b87-d58092a23a88",
   "metadata": {},
   "outputs": [],
   "source": [
    "best = xgb_rs.best_estimator_"
   ]
  },
  {
   "cell_type": "code",
   "execution_count": 19,
   "id": "4ef28b5b-095f-436d-81ef-90852d64240f",
   "metadata": {},
   "outputs": [
    {
     "name": "stdout",
     "output_type": "stream",
     "text": [
      "XGBClassifier(alpha=1.2, base_score=0.5, booster='gbtree', callbacks=None,\n",
      "              colsample_bylevel=1, colsample_bynode=1, colsample_bytree=1,\n",
      "              early_stopping_rounds=None, enable_categorical=False,\n",
      "              eval_metric='logloss', gamma=0, gpu_id=0, grow_policy='depthwise',\n",
      "              importance_type=None, interaction_constraints='',\n",
      "              learning_rate=0.25, max_bin=256, max_cat_to_onehot=4,\n",
      "              max_delta_step=0, max_depth=5, max_leaves=0, min_child_weight=1,\n",
      "              missing=nan, monotone_constraints='()', n_estimators=220,\n",
      "              n_jobs=0, num_parallel_tree=1, predictor='auto', random_state=0,\n",
      "              reg_alpha=1.20000005, ...)\n"
     ]
    }
   ],
   "source": [
    "print(best)"
   ]
  },
  {
   "cell_type": "markdown",
   "id": "308fce59-9dd8-4fb9-bc48-ab2ca3a54ce4",
   "metadata": {},
   "source": [
    "Searching for best threshold"
   ]
  },
  {
   "cell_type": "code",
   "execution_count": 20,
   "id": "ab1ed625-3278-49e8-a8c3-57accbdc14c7",
   "metadata": {},
   "outputs": [
    {
     "name": "stdout",
     "output_type": "stream",
     "text": [
      "Best Threshold=0.242534, F-Score=0.758\n"
     ]
    }
   ],
   "source": [
    "# predict probabilities\n",
    "yhat = xgb_rs.predict_proba(X_test)\n",
    "# keep probabilities for the positive outcome only\n",
    "yhat = yhat[:, 1]\n",
    "# calculate roc curves\n",
    "precision, recall, thresholds = precision_recall_curve(y_test, yhat)\n",
    "# convert to f score\n",
    "fscore = (2 * precision * recall) / (precision + recall)\n",
    "# locate the index of the largest f score\n",
    "ix = np.argmax(fscore)\n",
    "print('Best Threshold=%f, F-Score=%.3f' % (thresholds[ix], fscore[ix]))"
   ]
  },
  {
   "cell_type": "code",
   "execution_count": 21,
   "id": "b26e3be9-34e1-4868-ac29-9500ff4cf67f",
   "metadata": {},
   "outputs": [
    {
     "name": "stdout",
     "output_type": "stream",
     "text": [
      "0.24253361\n"
     ]
    }
   ],
   "source": [
    "best_thres = thresholds[ix]\n",
    "print(best_thres)"
   ]
  },
  {
   "cell_type": "markdown",
   "id": "8afd1be1-ddc2-4e20-af4b-4d26870fc9be",
   "metadata": {},
   "source": [
    "Prediction using the best thershold that was found"
   ]
  },
  {
   "cell_type": "code",
   "execution_count": 22,
   "id": "806d3cf5-a79e-4700-8bd2-dfb60e4888d1",
   "metadata": {},
   "outputs": [],
   "source": [
    "preds = (xgb_rs.predict_proba(X_test)[:,1]>=best_thres).astype(int)"
   ]
  },
  {
   "cell_type": "code",
   "execution_count": 23,
   "id": "b2cd126e-62f4-4f4e-928a-1608ecf39c31",
   "metadata": {},
   "outputs": [
    {
     "name": "stdout",
     "output_type": "stream",
     "text": [
      "0.9799655035159878\n"
     ]
    }
   ],
   "source": [
    "print(accuracy_score(y_test,preds))"
   ]
  },
  {
   "cell_type": "code",
   "execution_count": 24,
   "id": "a127b738-258b-4fe3-b8f1-275de10907e5",
   "metadata": {},
   "outputs": [
    {
     "name": "stdout",
     "output_type": "stream",
     "text": [
      "0.7584000000000001\n"
     ]
    }
   ],
   "source": [
    "print(f1_score(y_test, preds))"
   ]
  },
  {
   "cell_type": "markdown",
   "id": "d67928af-d55c-4496-ab6b-cda5f8ac395c",
   "metadata": {},
   "source": [
    "Testing the model on the test dataset"
   ]
  },
  {
   "cell_type": "code",
   "execution_count": 25,
   "id": "7ec5b966-7322-457f-9b92-a902a165912e",
   "metadata": {},
   "outputs": [
    {
     "name": "stderr",
     "output_type": "stream",
     "text": [
      "/opt/conda/lib/python3.7/site-packages/IPython/core/interactiveshell.py:3552: DtypeWarning: Columns (2,3,4,7,8,10,11,15,19,23,26,30,36,37,39,49,52,58,60) have mixed types.Specify dtype option on import or set low_memory=False.\n",
      "  exec(code_obj, self.user_global_ns, self.user_ns)\n"
     ]
    }
   ],
   "source": [
    "b = pd.read_csv('test.csv')"
   ]
  },
  {
   "cell_type": "code",
   "execution_count": 26,
   "id": "eee0fd7a-5d34-498d-86f1-f2ec4e2ded32",
   "metadata": {},
   "outputs": [],
   "source": [
    "b = b.apply(pd.to_numeric, errors='coerce',downcast='integer')"
   ]
  },
  {
   "cell_type": "code",
   "execution_count": 27,
   "id": "0366eb4d-02b6-4dae-9fdc-64a22242906f",
   "metadata": {},
   "outputs": [
    {
     "data": {
      "text/plain": [
       "id                                               int32\n",
       "forecasting period                                int8\n",
       "net_profit_over_total_assets                   float64\n",
       "total_liabilities_over_total_assets            float64\n",
       "working_capital_over_total_assets              float64\n",
       "                                                ...   \n",
       "sales_over_inventory                           float64\n",
       "sales_over_receivables                         float64\n",
       "short_term_liabilities_times_365_over_sales    float64\n",
       "sales_over_short_term_liabilities              float64\n",
       "sales_over_fixed_assets                        float64\n",
       "Length: 66, dtype: object"
      ]
     },
     "execution_count": 27,
     "metadata": {},
     "output_type": "execute_result"
    }
   ],
   "source": [
    "b.dtypes"
   ]
  },
  {
   "cell_type": "code",
   "execution_count": 28,
   "id": "f3f05814-5e80-49ae-ae15-bad27e84888f",
   "metadata": {},
   "outputs": [],
   "source": [
    "b2 = b.iloc[:,1:66]"
   ]
  },
  {
   "cell_type": "code",
   "execution_count": 29,
   "id": "18660cba-f581-4fca-b392-374022440f57",
   "metadata": {},
   "outputs": [],
   "source": [
    "preds_test = (xgb_rs.predict_proba(b2)[:,1]>=best_thres).astype(int)"
   ]
  },
  {
   "cell_type": "code",
   "execution_count": 30,
   "id": "1b629856-79b1-4f8d-8c38-1264ae51d023",
   "metadata": {},
   "outputs": [],
   "source": [
    "b['class'] = preds_test"
   ]
  },
  {
   "cell_type": "code",
   "execution_count": 31,
   "id": "7a67e46f-9ca6-4bab-8a13-d6fdddcead93",
   "metadata": {},
   "outputs": [],
   "source": [
    "final = b[['id','class']]"
   ]
  },
  {
   "cell_type": "code",
   "execution_count": 32,
   "id": "c204d2bb-d1f9-4a22-8c08-41f2e912c189",
   "metadata": {},
   "outputs": [
    {
     "data": {
      "text/html": [
       "<div>\n",
       "<style scoped>\n",
       "    .dataframe tbody tr th:only-of-type {\n",
       "        vertical-align: middle;\n",
       "    }\n",
       "\n",
       "    .dataframe tbody tr th {\n",
       "        vertical-align: top;\n",
       "    }\n",
       "\n",
       "    .dataframe thead th {\n",
       "        text-align: right;\n",
       "    }\n",
       "</style>\n",
       "<table border=\"1\" class=\"dataframe\">\n",
       "  <thead>\n",
       "    <tr style=\"text-align: right;\">\n",
       "      <th></th>\n",
       "      <th>id</th>\n",
       "      <th>class</th>\n",
       "    </tr>\n",
       "  </thead>\n",
       "  <tbody>\n",
       "    <tr>\n",
       "      <th>0</th>\n",
       "      <td>25121</td>\n",
       "      <td>0</td>\n",
       "    </tr>\n",
       "    <tr>\n",
       "      <th>1</th>\n",
       "      <td>25122</td>\n",
       "      <td>0</td>\n",
       "    </tr>\n",
       "    <tr>\n",
       "      <th>2</th>\n",
       "      <td>25123</td>\n",
       "      <td>0</td>\n",
       "    </tr>\n",
       "    <tr>\n",
       "      <th>3</th>\n",
       "      <td>25124</td>\n",
       "      <td>0</td>\n",
       "    </tr>\n",
       "    <tr>\n",
       "      <th>4</th>\n",
       "      <td>25125</td>\n",
       "      <td>0</td>\n",
       "    </tr>\n",
       "  </tbody>\n",
       "</table>\n",
       "</div>"
      ],
      "text/plain": [
       "      id  class\n",
       "0  25121      0\n",
       "1  25122      0\n",
       "2  25123      0\n",
       "3  25124      0\n",
       "4  25125      0"
      ]
     },
     "execution_count": 32,
     "metadata": {},
     "output_type": "execute_result"
    }
   ],
   "source": [
    "final.head()"
   ]
  },
  {
   "cell_type": "code",
   "execution_count": 33,
   "id": "78f5dcad-7c66-4cbe-949c-969b26143fcb",
   "metadata": {},
   "outputs": [],
   "source": [
    "final.to_csv('sub_repeatedStratifiedKFold.csv',index=False)"
   ]
  }
 ],
 "metadata": {
  "environment": {
   "kernel": "python3",
   "name": "common-cu110.m93",
   "type": "gcloud",
   "uri": "gcr.io/deeplearning-platform-release/base-cu110:m93"
  },
  "kernelspec": {
   "display_name": "Python 3",
   "language": "python",
   "name": "python3"
  },
  "language_info": {
   "codemirror_mode": {
    "name": "ipython",
    "version": 3
   },
   "file_extension": ".py",
   "mimetype": "text/x-python",
   "name": "python",
   "nbconvert_exporter": "python",
   "pygments_lexer": "ipython3",
   "version": "3.7.12"
  }
 },
 "nbformat": 4,
 "nbformat_minor": 5
}
